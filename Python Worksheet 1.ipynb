{
 "cells": [
  {
   "cell_type": "markdown",
   "id": "7b02d4be",
   "metadata": {},
   "source": [
    "# Python Worksheet 1"
   ]
  },
  {
   "cell_type": "markdown",
   "id": "3281445f",
   "metadata": {},
   "source": [
    "1. Which of the following operators is used to calculate remainder in a division? \n",
    "A) # B) & C) % D) $"
   ]
  },
  {
   "cell_type": "markdown",
   "id": "b30ce358",
   "metadata": {},
   "source": [
    "%"
   ]
  },
  {
   "cell_type": "code",
   "execution_count": null,
   "id": "36c2b542",
   "metadata": {},
   "outputs": [],
   "source": []
  },
  {
   "cell_type": "markdown",
   "id": "78185926",
   "metadata": {},
   "source": [
    "2. In python 2//3 is equal to?\n",
    "A) 0.666 B) 0 C) 1 D) 0.67"
   ]
  },
  {
   "cell_type": "code",
   "execution_count": 4,
   "id": "c9952ccc",
   "metadata": {},
   "outputs": [
    {
     "data": {
      "text/plain": [
       "0"
      ]
     },
     "execution_count": 4,
     "metadata": {},
     "output_type": "execute_result"
    }
   ],
   "source": [
    "2//3"
   ]
  },
  {
   "cell_type": "code",
   "execution_count": null,
   "id": "cfe7cf22",
   "metadata": {},
   "outputs": [],
   "source": []
  },
  {
   "cell_type": "markdown",
   "id": "ff3437b9",
   "metadata": {},
   "source": [
    "3. In python, 6<<2 is equal to? \n",
    "A) 36 B) 10 C) 24 D) 45"
   ]
  },
  {
   "cell_type": "code",
   "execution_count": 5,
   "id": "56c9d0f7",
   "metadata": {},
   "outputs": [
    {
     "data": {
      "text/plain": [
       "24"
      ]
     },
     "execution_count": 5,
     "metadata": {},
     "output_type": "execute_result"
    }
   ],
   "source": [
    "6<<2"
   ]
  },
  {
   "cell_type": "code",
   "execution_count": null,
   "id": "08d0c35b",
   "metadata": {},
   "outputs": [],
   "source": []
  },
  {
   "cell_type": "markdown",
   "id": "421f52fc",
   "metadata": {},
   "source": [
    "4. In python, 6&2 will give which of the following as output? A) 2 B) True C) False D) 0"
   ]
  },
  {
   "cell_type": "code",
   "execution_count": 6,
   "id": "54543a45",
   "metadata": {},
   "outputs": [
    {
     "data": {
      "text/plain": [
       "2"
      ]
     },
     "execution_count": 6,
     "metadata": {},
     "output_type": "execute_result"
    }
   ],
   "source": [
    "6&2"
   ]
  },
  {
   "cell_type": "code",
   "execution_count": null,
   "id": "c80e8288",
   "metadata": {},
   "outputs": [],
   "source": []
  },
  {
   "cell_type": "markdown",
   "id": "a0d4beed",
   "metadata": {},
   "source": [
    "5. In python, 6|2 will give which of the following as output? A) 2 B) 4 C) 0 D) 6"
   ]
  },
  {
   "cell_type": "code",
   "execution_count": 8,
   "id": "621ed2d7",
   "metadata": {},
   "outputs": [
    {
     "data": {
      "text/plain": [
       "6"
      ]
     },
     "execution_count": 8,
     "metadata": {},
     "output_type": "execute_result"
    }
   ],
   "source": [
    "6|2"
   ]
  },
  {
   "cell_type": "code",
   "execution_count": null,
   "id": "04ece054",
   "metadata": {},
   "outputs": [],
   "source": []
  },
  {
   "cell_type": "markdown",
   "id": "147c3f37",
   "metadata": {},
   "source": [
    "6. What does the finally keyword denotes in python? A) It is used to mark the end of the code B) It encloses the lines of code which will be executed if any error occurs while executing the lines of code in the try block. C) the finally block will be executed no matter if the try block raises an error or not. D) None of the above\n",
    "\n",
    "\n",
    "\n",
    "C) the finally block will be executed no matter if the try block raises an error or not."
   ]
  },
  {
   "cell_type": "code",
   "execution_count": null,
   "id": "7f885d9d",
   "metadata": {},
   "outputs": [],
   "source": []
  },
  {
   "cell_type": "markdown",
   "id": "cbf77706",
   "metadata": {},
   "source": [
    "7. What does raise keyword is used for in python? A) It is used to raise an exception. B) It is used to define lambda function C) it's not a keyword in python. D) None of the above\n",
    "\n",
    "\n",
    "A) It is used to raise an exception."
   ]
  },
  {
   "cell_type": "code",
   "execution_count": null,
   "id": "7d634521",
   "metadata": {},
   "outputs": [],
   "source": []
  },
  {
   "cell_type": "markdown",
   "id": "0d9b1c14",
   "metadata": {},
   "source": [
    "8. Which of the following is a common use case of yield keyword in python? A) in defining an iterator B) while defining a lambda function C) in defining a generator D) in for loop\n",
    "\n",
    "\n",
    "C) in defining a generator."
   ]
  },
  {
   "cell_type": "code",
   "execution_count": null,
   "id": "49292838",
   "metadata": {},
   "outputs": [],
   "source": []
  },
  {
   "cell_type": "markdown",
   "id": "080b479f",
   "metadata": {},
   "source": [
    "9. Which of the following are the valid variable names?\n",
    "A) _abc B) 1abc\n",
    "C) abc2 D) None of the above\n",
    "\n",
    "D)None of the above"
   ]
  },
  {
   "cell_type": "code",
   "execution_count": 12,
   "id": "3069a8d6",
   "metadata": {},
   "outputs": [
    {
     "ename": "NameError",
     "evalue": "name '_abc' is not defined",
     "output_type": "error",
     "traceback": [
      "\u001b[1;31m---------------------------------------------------------------------------\u001b[0m",
      "\u001b[1;31mNameError\u001b[0m                                 Traceback (most recent call last)",
      "\u001b[1;32m<ipython-input-12-328f62985b2c>\u001b[0m in \u001b[0;36m<module>\u001b[1;34m\u001b[0m\n\u001b[1;32m----> 1\u001b[1;33m \u001b[0mx\u001b[0m\u001b[1;33m=\u001b[0m\u001b[0m_abc\u001b[0m\u001b[1;33m\u001b[0m\u001b[1;33m\u001b[0m\u001b[0m\n\u001b[0m",
      "\u001b[1;31mNameError\u001b[0m: name '_abc' is not defined"
     ]
    }
   ],
   "source": [
    "x=_abc"
   ]
  },
  {
   "cell_type": "code",
   "execution_count": 13,
   "id": "f96320fd",
   "metadata": {},
   "outputs": [
    {
     "ename": "SyntaxError",
     "evalue": "invalid syntax (<ipython-input-13-4a3a2c60b90f>, line 1)",
     "output_type": "error",
     "traceback": [
      "\u001b[1;36m  File \u001b[1;32m\"<ipython-input-13-4a3a2c60b90f>\"\u001b[1;36m, line \u001b[1;32m1\u001b[0m\n\u001b[1;33m    y=1abc\u001b[0m\n\u001b[1;37m       ^\u001b[0m\n\u001b[1;31mSyntaxError\u001b[0m\u001b[1;31m:\u001b[0m invalid syntax\n"
     ]
    }
   ],
   "source": [
    "y=1abc"
   ]
  },
  {
   "cell_type": "code",
   "execution_count": 14,
   "id": "b4b9eb69",
   "metadata": {},
   "outputs": [
    {
     "ename": "NameError",
     "evalue": "name 'abc2' is not defined",
     "output_type": "error",
     "traceback": [
      "\u001b[1;31m---------------------------------------------------------------------------\u001b[0m",
      "\u001b[1;31mNameError\u001b[0m                                 Traceback (most recent call last)",
      "\u001b[1;32m<ipython-input-14-04889efff161>\u001b[0m in \u001b[0;36m<module>\u001b[1;34m\u001b[0m\n\u001b[1;32m----> 1\u001b[1;33m \u001b[0mz\u001b[0m\u001b[1;33m=\u001b[0m\u001b[0mabc2\u001b[0m\u001b[1;33m\u001b[0m\u001b[1;33m\u001b[0m\u001b[0m\n\u001b[0m",
      "\u001b[1;31mNameError\u001b[0m: name 'abc2' is not defined"
     ]
    }
   ],
   "source": [
    "z=abc2"
   ]
  },
  {
   "cell_type": "code",
   "execution_count": null,
   "id": "fe26398b",
   "metadata": {},
   "outputs": [],
   "source": []
  },
  {
   "cell_type": "markdown",
   "id": "652c7e1e",
   "metadata": {},
   "source": [
    "10. Which of the following are the keywords in python?\n",
    "A) yield B) raise\n",
    "C) look-in D) all of the above\n",
    "\n",
    "A) yield B) raise"
   ]
  },
  {
   "cell_type": "code",
   "execution_count": null,
   "id": "a1f8f201",
   "metadata": {},
   "outputs": [],
   "source": []
  },
  {
   "cell_type": "markdown",
   "id": "9705b05f",
   "metadata": {},
   "source": [
    "11. Write a python program to find the factorial of a number.\n"
   ]
  },
  {
   "cell_type": "markdown",
   "id": "f61e62d0",
   "metadata": {},
   "source": [
    "#to write a program to find a factoral of a number"
   ]
  },
  {
   "cell_type": "code",
   "execution_count": 49,
   "id": "d53e7c42",
   "metadata": {},
   "outputs": [
    {
     "name": "stdout",
     "output_type": "stream",
     "text": [
      "Factorial of 5 is 120\n"
     ]
    }
   ],
   "source": [
    "def factorial(n):\n",
    "     \n",
    "    # single line to find factorial\n",
    "    return 1 if (n==1 or n==0) else n * factorial(n - 1);\n",
    " \n",
    "# Driver Code\n",
    "num = 5;\n",
    "print(\"Factorial of\",num,\"is\",factorial(num))"
   ]
  },
  {
   "cell_type": "code",
   "execution_count": 55,
   "id": "ba048e9c",
   "metadata": {},
   "outputs": [
    {
     "name": "stdout",
     "output_type": "stream",
     "text": [
      "Factorial of 7 is 5040\n"
     ]
    }
   ],
   "source": [
    "num=7;\n",
    "\n",
    "print('Factorial of',num,'is',factorial(num))"
   ]
  },
  {
   "cell_type": "code",
   "execution_count": 54,
   "id": "05afc311",
   "metadata": {},
   "outputs": [
    {
     "name": "stdout",
     "output_type": "stream",
     "text": [
      "Factorial of 8 is 40320\n"
     ]
    }
   ],
   "source": [
    "num=8;\n",
    "\n",
    "print('Factorial of',num,'is',factorial(num))"
   ]
  },
  {
   "cell_type": "code",
   "execution_count": null,
   "id": "73f4a681",
   "metadata": {},
   "outputs": [],
   "source": []
  },
  {
   "cell_type": "markdown",
   "id": "7b5409e2",
   "metadata": {},
   "source": [
    "12. Write a python program to find whether a number is prime or composite.\n"
   ]
  },
  {
   "cell_type": "code",
   "execution_count": 4,
   "id": "cfffe4c5",
   "metadata": {},
   "outputs": [
    {
     "name": "stdout",
     "output_type": "stream",
     "text": [
      "Enter a number:22\n",
      "22 is not a prime number\n"
     ]
    }
   ],
   "source": [
    "n=int(input(\"Enter a number:\"))\n",
    "if n>1:\n",
    "    for i in range(2,n//2):\n",
    "        if(n%i)==0:\n",
    "            print(n,\"is not a prime number\")\n",
    "            break\n",
    "    else:\n",
    "        print(n,\"is a prime number\")\n",
    "else:\n",
    "    print(n,\"is neither prime nor composite\")"
   ]
  },
  {
   "cell_type": "code",
   "execution_count": 5,
   "id": "b7383bbe",
   "metadata": {},
   "outputs": [
    {
     "name": "stdout",
     "output_type": "stream",
     "text": [
      "Enter a number:3\n",
      "3 is a prime number\n"
     ]
    }
   ],
   "source": [
    "n=int(input(\"Enter a number:\"))\n",
    "if n>1:\n",
    "    for i in range(2,n//2):\n",
    "        if(n%i)==0:\n",
    "            print(n,\"is not a prime number\")\n",
    "            break\n",
    "    else:\n",
    "        print(n,\"is a prime number\")\n",
    "else:\n",
    "    print(n,\"is neither prime nor composite\")"
   ]
  },
  {
   "cell_type": "code",
   "execution_count": 6,
   "id": "8855df1a",
   "metadata": {},
   "outputs": [
    {
     "name": "stdout",
     "output_type": "stream",
     "text": [
      "Enter a number:1\n",
      "1 is neither prime nor composite\n"
     ]
    }
   ],
   "source": [
    "n=int(input(\"Enter a number:\"))\n",
    "if n>1:\n",
    "    for i in range(2,n//2):\n",
    "        if(n%i)==0:\n",
    "            print(n,\"is not a prime number\")\n",
    "            break\n",
    "    else:\n",
    "        print(n,\"is a prime number\")\n",
    "else:\n",
    "    print(n,\"is neither prime nor composite\")"
   ]
  },
  {
   "cell_type": "code",
   "execution_count": null,
   "id": "39cc5ead",
   "metadata": {},
   "outputs": [],
   "source": []
  },
  {
   "cell_type": "markdown",
   "id": "62c72eab",
   "metadata": {},
   "source": [
    "13. Write a python program to check whether a given string is palindrome or not."
   ]
  },
  {
   "cell_type": "code",
   "execution_count": 10,
   "id": "8c99b004",
   "metadata": {},
   "outputs": [
    {
     "name": "stdout",
     "output_type": "stream",
     "text": [
      "NO\n"
     ]
    }
   ],
   "source": [
    "# Python program to check\n",
    "# if a string is palindrome\n",
    "# or not\n",
    "st = \"Pink\"\n",
    "j = -1\n",
    "flag = 0\n",
    "for i in st:\n",
    "    if i != st[j]:\n",
    "        flag = 1\n",
    "        break\n",
    "    j = j - 1\n",
    "if flag == 1:\n",
    "    print(\"NO\")\n",
    "else:\n",
    "    print(\"Yes\")"
   ]
  },
  {
   "cell_type": "code",
   "execution_count": 11,
   "id": "401030ce",
   "metadata": {},
   "outputs": [
    {
     "name": "stdout",
     "output_type": "stream",
     "text": [
      "Yes\n"
     ]
    }
   ],
   "source": [
    "# function which return reverse of a string\n",
    " \n",
    "def isPalindrome(s):\n",
    "    return s == s[::-1]\n",
    " \n",
    " \n",
    "# Driver code\n",
    "s = \"malayalam\"\n",
    "ans = isPalindrome(s)\n",
    " \n",
    "if ans:\n",
    "    print(\"Yes\")\n",
    "else:\n",
    "    print(\"No\")"
   ]
  },
  {
   "cell_type": "code",
   "execution_count": null,
   "id": "69dc44f6",
   "metadata": {},
   "outputs": [],
   "source": []
  },
  {
   "cell_type": "markdown",
   "id": "632fc4b3",
   "metadata": {},
   "source": [
    "14. Write a Python program to get the third side of right-angled triangle from two given sides."
   ]
  },
  {
   "cell_type": "code",
   "execution_count": null,
   "id": "20682000",
   "metadata": {},
   "outputs": [],
   "source": [
    "Given a right angled triangle, Pythagoras' theorem states that: a² + b² = c²."
   ]
  },
  {
   "cell_type": "code",
   "execution_count": 13,
   "id": "1ccdf246",
   "metadata": {},
   "outputs": [
    {
     "name": "stdout",
     "output_type": "stream",
     "text": [
      "Hypotenuse = 5.0\n",
      "Adjacent = 4.0\n",
      "Opposite = 3.0\n",
      "The answer is here!\n"
     ]
    }
   ],
   "source": [
    "def pythagoras(opposite_side,adjacent_side,hypotenuse):\n",
    "        if opposite_side == str(\"x\"):\n",
    "            return (\"Opposite = \" + str(((hypotenuse**2) - (adjacent_side**2))**0.5))\n",
    "        elif adjacent_side == str(\"x\"):\n",
    "            return (\"Adjacent = \" + str(((hypotenuse**2) - (opposite_side**2))**0.5))\n",
    "        elif hypotenuse == str(\"x\"):\n",
    "            return (\"Hypotenuse = \" + str(((opposite_side**2) + (adjacent_side**2))**0.5))\n",
    "        else:\n",
    "            return \"The answer is here!\"\n",
    "    \n",
    "print(pythagoras(3,4,'x'))\n",
    "print(pythagoras(3,'x',5))\n",
    "print(pythagoras('x',4,5))\n",
    "print(pythagoras(3,4,5))"
   ]
  },
  {
   "cell_type": "code",
   "execution_count": null,
   "id": "8b423d37",
   "metadata": {},
   "outputs": [],
   "source": []
  },
  {
   "cell_type": "markdown",
   "id": "9c6ed214",
   "metadata": {},
   "source": [
    "15. Write a python program to print the frequency of each of the characters present in a given string"
   ]
  },
  {
   "cell_type": "code",
   "execution_count": 17,
   "id": "1396bc95",
   "metadata": {},
   "outputs": [
    {
     "name": "stdout",
     "output_type": "stream",
     "text": [
      "Count of all characters in PythonforDataScience is : \n",
      "{'P': 1, 'y': 1, 't': 2, 'h': 1, 'o': 2, 'n': 2, 'f': 1, 'r': 1, 'D': 1, 'a': 2, 'S': 1, 'c': 2, 'i': 1, 'e': 2}\n"
     ]
    }
   ],
   "source": [
    "# Python code to demonstrate \n",
    "# each occurrence frequency using \n",
    "# dict.get()\n",
    "  \n",
    "# initializing string \n",
    "test_str = \"PythonforDataScience\"\n",
    "  \n",
    "# using dict.get() to get count \n",
    "# of each element in string \n",
    "res = {}\n",
    "  \n",
    "for keys in test_str:\n",
    "    res[keys] = res.get(keys, 0) + 1\n",
    "  \n",
    "# printing result \n",
    "print (\"Count of all characters in PythonforDataScience is : \\n\"\n",
    "                                             +  str(res))"
   ]
  },
  {
   "cell_type": "code",
   "execution_count": null,
   "id": "4444ed01",
   "metadata": {},
   "outputs": [],
   "source": []
  }
 ],
 "metadata": {
  "kernelspec": {
   "display_name": "Python 3",
   "language": "python",
   "name": "python3"
  },
  "language_info": {
   "codemirror_mode": {
    "name": "ipython",
    "version": 3
   },
   "file_extension": ".py",
   "mimetype": "text/x-python",
   "name": "python",
   "nbconvert_exporter": "python",
   "pygments_lexer": "ipython3",
   "version": "3.8.8"
  }
 },
 "nbformat": 4,
 "nbformat_minor": 5
}
